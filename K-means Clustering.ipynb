{
 "cells": [
  {
   "cell_type": "code",
   "execution_count": null,
   "id": "ef5a918a-b39c-4503-b0f5-431b7fa19e11",
   "metadata": {},
   "outputs": [],
   "source": [
    "import numpy as np\n",
    "import matplotlib.pyplot as plt\n",
    "from utils import *\n",
    "\n",
    "%matplotlib inline"
   ]
  },
  {
   "cell_type": "code",
   "execution_count": null,
   "id": "1c8fefa4-d911-414d-b7f3-bbf12032d4d5",
   "metadata": {},
   "outputs": [],
   "source": [
    "def find_closest_centroids(X, centroids):\n",
    "    K = centroids.shape[0]\n",
    "    idx = np.zeros(X.shape[0], dtype=int)\n",
    "\n",
    "    for i in range(X.shape[0]):\n",
    "          distance = [] \n",
    "          for j in range(centroids.shape[0]):\n",
    "              norm_ij = np.linalg.norm(X[i] - centroids[j])\n",
    "              distance.append(norm_ij)\n",
    "\n",
    "          idx[i] = np.argmin(distance)\n",
    "    \n",
    "    return idx"
   ]
  },
  {
   "cell_type": "code",
   "execution_count": null,
   "id": "438e9fc1-96e3-4fe1-8105-690b8caad136",
   "metadata": {},
   "outputs": [],
   "source": [
    "X = load_data()"
   ]
  },
  {
   "cell_type": "code",
   "execution_count": null,
   "id": "b98a7cf6-84fb-4f10-b2c4-a12fc1385fde",
   "metadata": {},
   "outputs": [],
   "source": [
    "print(\"First five elements of X are:\\n\", X[:5]) \n",
    "print('The shape of X is:', X.shape)"
   ]
  },
  {
   "cell_type": "code",
   "execution_count": null,
   "id": "f6919ece-d5b0-41af-87a3-7c0bb2d6ca7e",
   "metadata": {},
   "outputs": [],
   "source": [
    "initial_centroids = np.array([[3,3], [6,2], [8,5]])\n",
    "\n",
    "idx = find_closest_centroids(X, initial_centroids)\n",
    "\n",
    "print(\"First three elements in idx are:\", idx[:3])\n",
    "\n",
    "from public_tests import *\n",
    "\n",
    "find_closest_centroids_test(find_closest_centroids)"
   ]
  },
  {
   "cell_type": "code",
   "execution_count": null,
   "id": "18639b4c-213b-40a5-91c5-8b109f465e96",
   "metadata": {},
   "outputs": [],
   "source": [
    "def compute_centroids(X, idx, K):\n",
    "    m, n = X.shape\n",
    "    centroids = np.zeros((K, n))\n",
    "\n",
    "    for k in range(K):   \n",
    "          points = X[idx == k]  \n",
    "          centroids[k] = np.mean(points, axis = 0)\n",
    "    \n",
    "    return centroids"
   ]
  },
  {
   "cell_type": "code",
   "execution_count": null,
   "id": "3296945b-c7b7-42f3-8b13-eb866ed0a0d5",
   "metadata": {},
   "outputs": [],
   "source": [
    "K = 3\n",
    "centroids = compute_centroids(X, idx, K)\n",
    "\n",
    "print(\"The centroids are:\", centroids)\n",
    "\n",
    "compute_centroids_test(compute_centroids)"
   ]
  },
  {
   "cell_type": "code",
   "execution_count": null,
   "id": "f24cd7f2-2223-4c84-81cc-9ae36ad2f9d5",
   "metadata": {},
   "outputs": [],
   "source": [
    "def run_kMeans(X, initial_centroids, max_iters=10, plot_progress=False):\n",
    "    m, n = X.shape\n",
    "    K = initial_centroids.shape[0]\n",
    "    centroids = initial_centroids\n",
    "    previous_centroids = centroids    \n",
    "    idx = np.zeros(m)\n",
    "    \n",
    "    for i in range(max_iters):\n",
    "        print(\"K-Means iteration %d/%d\" % (i, max_iters-1))\n",
    "        idx = find_closest_centroids(X, centroids)\n",
    "        if plot_progress:\n",
    "            plot_progress_kMeans(X, centroids, previous_centroids, idx, K, i)\n",
    "            previous_centroids = centroids\n",
    "        centroids = compute_centroids(X, idx, K)\n",
    "    plt.show() \n",
    "    return centroids, idx\n",
    "\n",
    "X = load_data()\n",
    "\n",
    "initial_centroids = np.array([[3,3],[6,2],[8,5]])\n",
    "K = 3\n",
    "\n",
    "max_iters = 10\n",
    "\n",
    "centroids, idx = run_kMeans(X, initial_centroids, max_iters, plot_progress=True)"
   ]
  },
  {
   "cell_type": "code",
   "execution_count": null,
   "id": "dcc74191-aad8-450f-955a-30f61ed3acd9",
   "metadata": {},
   "outputs": [],
   "source": [
    "def kMeans_init_centroids(X, K):\n",
    "    randidx = np.random.permutation(X.shape[0])\n",
    "    \n",
    "    centroids = X[randidx[:K]]\n",
    "    \n",
    "    return centroids"
   ]
  },
  {
   "cell_type": "code",
   "execution_count": null,
   "id": "1e72145b-c3d9-4032-bc87-13d2a60be655",
   "metadata": {},
   "outputs": [],
   "source": [
    "original_img = plt.imread('bird_small.png')"
   ]
  },
  {
   "cell_type": "code",
   "execution_count": null,
   "id": "1c573a3d-4f08-4223-ac20-ef943a0987ac",
   "metadata": {},
   "outputs": [],
   "source": [
    "plt.imshow(original_img)"
   ]
  },
  {
   "cell_type": "code",
   "execution_count": null,
   "id": "9d6bcde5-d397-432a-ad5a-1b1eb02d5fa6",
   "metadata": {},
   "outputs": [],
   "source": [
    "print(\"Shape of original_img is:\", original_img.shape)"
   ]
  },
  {
   "cell_type": "code",
   "execution_count": null,
   "id": "46632979-f533-49c5-98ed-ec490e29494d",
   "metadata": {},
   "outputs": [],
   "source": [
    "original_img = original_img / 255\n",
    "X_img = np.reshape(original_img, (original_img.shape[0] * original_img.shape[1], 3))"
   ]
  },
  {
   "cell_type": "code",
   "execution_count": null,
   "id": "70019c0f-29fd-49d6-a179-1ad8e0e47a38",
   "metadata": {},
   "outputs": [],
   "source": [
    "K = 16                       \n",
    "max_iters = 10               \n",
    "\n",
    "initial_centroids = kMeans_init_centroids(X_img, K) \n",
    "\n",
    "centroids, idx = run_kMeans(X_img, initial_centroids, max_iters) "
   ]
  },
  {
   "cell_type": "code",
   "execution_count": null,
   "id": "4446f15a-c032-4ef8-832a-bfe969c7b3c7",
   "metadata": {},
   "outputs": [],
   "source": [
    "print(\"Shape of idx:\", idx.shape)\n",
    "print(\"Closest centroid for the first five elements:\", idx[:5])"
   ]
  },
  {
   "cell_type": "code",
   "execution_count": null,
   "id": "1b825a84-7881-475b-adc0-73b88a20ac58",
   "metadata": {},
   "outputs": [],
   "source": [
    "X_recovered = centroids[idx, :] \n",
    "X_recovered = np.reshape(X_recovered, original_img.shape) "
   ]
  },
  {
   "cell_type": "code",
   "execution_count": null,
   "id": "cb8f31b7-f8c7-4a62-9072-719444e2074d",
   "metadata": {},
   "outputs": [],
   "source": [
    "fig, ax = plt.subplots(1,2, figsize=(8,8))\n",
    "plt.axis('off')\n",
    "\n",
    "ax[0].imshow(original_img*255)\n",
    "ax[0].set_title('Original')\n",
    "ax[0].set_axis_off()\n",
    "\n",
    "ax[1].imshow(X_recovered*255)\n",
    "ax[1].set_title('Compressed with %d colours'%K)\n",
    "ax[1].set_axis_off()"
   ]
  }
 ],
 "metadata": {
  "kernelspec": {
   "display_name": "Python 3 (ipykernel)",
   "language": "python",
   "name": "python3"
  },
  "language_info": {
   "codemirror_mode": {
    "name": "ipython",
    "version": 3
   },
   "file_extension": ".py",
   "mimetype": "text/x-python",
   "name": "python",
   "nbconvert_exporter": "python",
   "pygments_lexer": "ipython3",
   "version": "3.11.0"
  }
 },
 "nbformat": 4,
 "nbformat_minor": 5
}
