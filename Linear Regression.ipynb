{
 "cells": [
  {
   "cell_type": "code",
   "execution_count": null,
   "id": "3f403749-334b-4cc9-a4d7-8ab7e7c432bc",
   "metadata": {},
   "outputs": [],
   "source": [
    "import numpy as np\n",
    "import matplotlib.pyplot as plt\n",
    "from utils import *\n",
    "import copy\n",
    "import math\n",
    "%matplotlib inline"
   ]
  },
  {
   "cell_type": "code",
   "execution_count": null,
   "id": "2118e89d-5a42-482f-a1f2-52023a2bc278",
   "metadata": {},
   "outputs": [],
   "source": [
    "x_train, y_train = load_data()"
   ]
  },
  {
   "cell_type": "code",
   "execution_count": null,
   "id": "3af562e3-9b25-4145-9db4-e226cfea9607",
   "metadata": {},
   "outputs": [],
   "source": [
    "print(\"Type of x_train:\",type(x_train))\n",
    "print(\"First five elements of x_train are:\\n\", x_train[:5]) "
   ]
  },
  {
   "cell_type": "code",
   "execution_count": null,
   "id": "7f1a437b-61ac-445c-98b0-854589677567",
   "metadata": {},
   "outputs": [],
   "source": [
    "print(\"Type of y_train:\",type(y_train))\n",
    "print(\"First five elements of y_train are:\\n\", y_train[:5])  "
   ]
  },
  {
   "cell_type": "code",
   "execution_count": null,
   "id": "c59f5931-c870-4b86-9bfb-69f0cc5637bd",
   "metadata": {},
   "outputs": [],
   "source": [
    "print ('The shape of x_train is:', x_train.shape)\n",
    "print ('The shape of y_train is: ', y_train.shape)\n",
    "print ('Number of training examples (m):', len(x_train))"
   ]
  },
  {
   "cell_type": "code",
   "execution_count": null,
   "id": "aa40d4bb-e61a-479a-9943-7ef0c5631739",
   "metadata": {},
   "outputs": [],
   "source": [
    "plt.scatter(x_train, y_train, marker='x', c='r') \n",
    "\n",
    "plt.title(\"Profits vs. Population per city\")\n",
    "plt.ylabel('Profit in $10,000')\n",
    "plt.xlabel('Population of City in 10,000s')\n",
    "plt.show()"
   ]
  },
  {
   "cell_type": "code",
   "execution_count": null,
   "id": "ff674715-dbac-46c9-a896-6b385f5693ba",
   "metadata": {},
   "outputs": [],
   "source": [
    "def compute_cost(x, y, w, b): \n",
    "    m = x.shape[0] \n",
    "    total_cost = 0\n",
    "\n",
    "    cost=0\n",
    "    for i in range(m):\n",
    "        f_wb = w*x[i]+b\n",
    "        cost += (f_wb - y[i])**2\n",
    "    \n",
    "    total_cost = cost/(2*m)\n",
    "    \n",
    "    return total_cost"
   ]
  },
  {
   "cell_type": "code",
   "execution_count": null,
   "id": "8158cd79-b877-4f84-a75e-b3d4819bc04c",
   "metadata": {},
   "outputs": [],
   "source": [
    "initial_w = 2\n",
    "initial_b = 1\n",
    "\n",
    "cost = compute_cost(x_train, y_train, initial_w, initial_b)\n",
    "print(type(cost))\n",
    "print(f'Cost at initial w (zeros): {cost:.3f}')\n",
    "\n",
    "from public_tests import *\n",
    "compute_cost_test(compute_cost)"
   ]
  }
 ],
 "metadata": {
  "kernelspec": {
   "display_name": "Python 3 (ipykernel)",
   "language": "python",
   "name": "python3"
  },
  "language_info": {
   "codemirror_mode": {
    "name": "ipython",
    "version": 3
   },
   "file_extension": ".py",
   "mimetype": "text/x-python",
   "name": "python",
   "nbconvert_exporter": "python",
   "pygments_lexer": "ipython3",
   "version": "3.11.0"
  }
 },
 "nbformat": 4,
 "nbformat_minor": 5
}
