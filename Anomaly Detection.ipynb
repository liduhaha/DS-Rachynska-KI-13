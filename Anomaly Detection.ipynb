{
 "cells": [
  {
   "cell_type": "code",
   "execution_count": null,
   "id": "77c7211c-7f6f-4432-a006-def3896e1638",
   "metadata": {},
   "outputs": [],
   "source": [
    "import numpy as np\n",
    "import matplotlib.pyplot as plt\n",
    "from utils import *\n",
    "\n",
    "%matplotlib inline"
   ]
  },
  {
   "cell_type": "code",
   "execution_count": null,
   "id": "2c0c39ff-d1b0-42ec-8da2-db8a62dcc83c",
   "metadata": {},
   "outputs": [],
   "source": [
    "X_train, X_val, y_val = load_data()"
   ]
  },
  {
   "cell_type": "code",
   "execution_count": null,
   "id": "b15a69b4-18b2-4c8b-967e-92c02b084f56",
   "metadata": {},
   "outputs": [],
   "source": [
    "print(\"The first 5 elements of X_train are:\\n\", X_train[:5]) "
   ]
  },
  {
   "cell_type": "code",
   "execution_count": null,
   "id": "0dbd6d3e-da6d-4fa3-aad9-9ed8df685395",
   "metadata": {},
   "outputs": [],
   "source": [
    "print(\"The first 5 elements of X_val are\\n\", X_val[:5])  "
   ]
  },
  {
   "cell_type": "code",
   "execution_count": null,
   "id": "2523d662-71ae-4778-87df-bede376646a9",
   "metadata": {},
   "outputs": [],
   "source": [
    "print(\"The first 5 elements of y_val are\\n\", y_val[:5])  "
   ]
  },
  {
   "cell_type": "code",
   "execution_count": null,
   "id": "95178252-7d86-4ddc-8879-727179322281",
   "metadata": {},
   "outputs": [],
   "source": [
    "print ('The shape of X_train is:', X_train.shape)\n",
    "print ('The shape of X_val is:', X_val.shape)\n",
    "print ('The shape of y_val is: ', y_val.shape)"
   ]
  },
  {
   "cell_type": "code",
   "execution_count": null,
   "id": "514eb249-a477-4e8a-86ee-12690c5de8fd",
   "metadata": {},
   "outputs": [],
   "source": [
    "plt.scatter(X_train[:, 0], X_train[:, 1], marker='x', c='b') \n",
    "\n",
    "plt.title(\"The first dataset\")\n",
    "plt.ylabel('Throughput (mb/s)')\n",
    "plt.xlabel('Latency (ms)')\n",
    "plt.axis([0, 30, 0, 30])\n",
    "plt.show()"
   ]
  },
  {
   "cell_type": "code",
   "execution_count": null,
   "id": "ec35fbed-691b-46db-b960-dc8b4e8be077",
   "metadata": {},
   "outputs": [],
   "source": [
    "def estimate_gaussian(X): \n",
    "    m, n = X.shape\n",
    "    mu = 1 / m * np.sum(X, axis = 0)\n",
    "    var = 1 / m * np.sum((X - mu) ** 2, axis = 0)\n",
    "        \n",
    "    return mu, var"
   ]
  },
  {
   "cell_type": "code",
   "execution_count": null,
   "id": "367c7942-0179-4de7-8494-da3224f0072f",
   "metadata": {},
   "outputs": [],
   "source": [
    "mu, var = estimate_gaussian(X_train)              \n",
    "\n",
    "print(\"Mean of each feature:\", mu)\n",
    "print(\"Variance of each feature:\", var)\n",
    "    \n",
    "from public_tests import *\n",
    "estimate_gaussian_test(estimate_gaussian)"
   ]
  },
  {
   "cell_type": "code",
   "execution_count": null,
   "id": "56223182-4d79-4086-be41-80b7af5505aa",
   "metadata": {},
   "outputs": [],
   "source": [
    "p = multivariate_gaussian(X_train, mu, var)\n",
    "\n",
    "visualize_fit(X_train, mu, var)"
   ]
  },
  {
   "cell_type": "code",
   "execution_count": null,
   "id": "dda45c7f-f253-4c02-88b7-86de2c11e4c9",
   "metadata": {},
   "outputs": [],
   "source": [
    "def select_threshold(y_val, p_val): \n",
    "    best_epsilon = 0\n",
    "    best_F1 = 0\n",
    "    F1 = 0\n",
    "    \n",
    "    step_size = (max(p_val) - min(p_val)) / 1000\n",
    "    \n",
    "    for epsilon in np.arange(min(p_val), max(p_val), step_size):\n",
    "        predictions = (p_val < epsilon)\n",
    "        tp = np.sum((predictions == 1) & (y_val == 1))\n",
    "        fn = np.sum((predictions == 0) & (y_val == 1))\n",
    "        fp = sum((predictions == 1) & (y_val == 0))\n",
    "        prec = tp / (tp + fp)\n",
    "        rec = tp / (tp + fn)\n",
    "        F1 = 2 * prec * rec / (prec + rec)\n",
    "        \n",
    "        if F1 > best_F1:\n",
    "            best_F1 = F1\n",
    "            best_epsilon = epsilon\n",
    "        \n",
    "    return best_epsilon, best_F1"
   ]
  },
  {
   "cell_type": "code",
   "execution_count": null,
   "id": "0d382648-85df-4aea-8326-af3b90844b07",
   "metadata": {},
   "outputs": [],
   "source": [
    "p_val = multivariate_gaussian(X_val, mu, var)\n",
    "epsilon, F1 = select_threshold(y_val, p_val)\n",
    "\n",
    "print('Best epsilon found using cross-validation: %e' % epsilon)\n",
    "print('Best F1 on Cross Validation Set: %f' % F1)\n",
    "    \n",
    "select_threshold_test(select_threshold)"
   ]
  },
  {
   "cell_type": "code",
   "execution_count": null,
   "id": "9cf50512-890a-4696-926f-b597d3880179",
   "metadata": {},
   "outputs": [],
   "source": [
    "outliers = p < epsilon\n",
    "visualize_fit(X_train, mu, var)\n",
    "plt.plot(X_train[outliers, 0], X_train[outliers, 1], 'ro',\n",
    "         markersize= 10,markerfacecolor='none', markeredgewidth=2)"
   ]
  },
  {
   "cell_type": "code",
   "execution_count": null,
   "id": "094a1759-f16a-4119-a275-9bbe60f671a8",
   "metadata": {},
   "outputs": [],
   "source": [
    "X_train_high, X_val_high, y_val_high = load_data_multi()\n",
    "print ('The shape of X_train_high is:', X_train_high.shape)\n",
    "print ('The shape of X_val_high is:', X_val_high.shape)\n",
    "print ('The shape of y_val_high is: ', y_val_high.shape)"
   ]
  },
  {
   "cell_type": "code",
   "execution_count": null,
   "id": "07b60b67-d5ec-4f95-9089-40ddfb8cdb9d",
   "metadata": {},
   "outputs": [],
   "source": [
    "mu_high, var_high = estimate_gaussian(X_train_high)\n",
    "p_high = multivariate_gaussian(X_train_high, mu_high, var_high)\n",
    "p_val_high = multivariate_gaussian(X_val_high, mu_high, var_high)\n",
    "epsilon_high, F1_high = select_threshold(y_val_high, p_val_high)\n",
    "\n",
    "print('Best epsilon found using cross-validation: %e'% epsilon_high)\n",
    "print('Best F1 on Cross Validation Set:  %f'% F1_high)\n",
    "print('# Anomalies found: %d'% sum(p_high < epsilon_high))"
   ]
  }
 ],
 "metadata": {
  "kernelspec": {
   "display_name": "Python 3 (ipykernel)",
   "language": "python",
   "name": "python3"
  },
  "language_info": {
   "codemirror_mode": {
    "name": "ipython",
    "version": 3
   },
   "file_extension": ".py",
   "mimetype": "text/x-python",
   "name": "python",
   "nbconvert_exporter": "python",
   "pygments_lexer": "ipython3",
   "version": "3.11.0"
  }
 },
 "nbformat": 4,
 "nbformat_minor": 5
}
